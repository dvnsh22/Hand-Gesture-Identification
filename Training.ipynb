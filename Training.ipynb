{
  "cells": [
    {
      "cell_type": "code",
      "execution_count": null,
      "metadata": {
        "id": "9rts_STkCWKk"
      },
      "outputs": [],
      "source": [
        "import numpy as np\n",
        "from keras.preprocessing import image\n",
        "from keras.models import Model, save, load_model\n",
        "from tensorflow.keras.optimizers import RMSprop, Adam\n",
        "from keras.preprocessing.image import ImageDataGenerator\n",
        "from keras.applications.vgg16 import VGG16, preprocess_input\n",
        "from keras.layers import Input, Lambda, Dense, Flatten, Dropout"
      ]
    },
    {
      "cell_type": "code",
      "source": [
        "from google.colab import drive\n",
        "drive.mount('/content/drive')"
      ],
      "metadata": {
        "colab": {
          "base_uri": "https://localhost:8080/"
        },
        "id": "UqyndcVDwrXg",
        "outputId": "7201bbd1-e576-495e-dbe9-ad16e06d3b90"
      },
      "execution_count": null,
      "outputs": [
        {
          "output_type": "stream",
          "name": "stdout",
          "text": [
            "Mounted at /content/drive\n"
          ]
        }
      ]
    },
    {
      "cell_type": "markdown",
      "source": [
        "### **Unzipping data**"
      ],
      "metadata": {
        "id": "mynEGLxGExmb"
      }
    },
    {
      "cell_type": "code",
      "source": [
        "# !unzip '/content/drive/MyDrive/IEEE/Dataset/Dataset.zip' -d '/content/drive/MyDrive/IEEE/Dataset/'"
      ],
      "metadata": {
        "id": "4JE-ona8w948"
      },
      "execution_count": null,
      "outputs": []
    },
    {
      "cell_type": "code",
      "source": [
        "# !unzip '/content/drive/MyDrive/IEEE/Dataset/Brighten Down_Train.zip' -d '/content/drive/MyDrive/IEEE/Dataset/Upload/train'"
      ],
      "metadata": {
        "id": "hSN1pAX0b-CW"
      },
      "execution_count": null,
      "outputs": []
    },
    {
      "cell_type": "code",
      "source": [
        "# !unzip '/content/drive/MyDrive/IEEE/Dataset/Brighten Down_Val.zip' -d '/content/drive/MyDrive/IEEE/Dataset/Upload/validation'"
      ],
      "metadata": {
        "id": "E2XHDAYTc4ey"
      },
      "execution_count": null,
      "outputs": []
    },
    {
      "cell_type": "markdown",
      "source": [
        "### **Performing Data Augmentation**"
      ],
      "metadata": {
        "id": "QBUs0YldE8hM"
      }
    },
    {
      "cell_type": "code",
      "execution_count": null,
      "metadata": {
        "colab": {
          "base_uri": "https://localhost:8080/"
        },
        "id": "MfHo69R3DtXw",
        "outputId": "8b224703-cd6f-49b9-e480-2559bf1d1a09"
      },
      "outputs": [
        {
          "output_type": "stream",
          "name": "stdout",
          "text": [
            "Found 3200 images belonging to 4 classes.\n",
            "Found 800 images belonging to 4 classes.\n"
          ]
        }
      ],
      "source": [
        "Trainpath = \"/content/drive/MyDrive/IEEE/Dataset/train\"\n",
        "Validpath = \"/content/drive/MyDrive/IEEE/Dataset/validation\"\n",
        "\n",
        "datagen = ImageDataGenerator(\n",
        "                    rescale=1./255,\n",
        "                    rotation_range = 40, \n",
        "                    width_shift_range = 0.2, \n",
        "                    height_shift_range = 0.2, \n",
        "                    shear_range = 0.2)\n",
        "\n",
        "train_generator = datagen.flow_from_directory(\n",
        "    Trainpath,\n",
        "    target_size=(224,224),\n",
        "    batch_size = 32,\n",
        "    class_mode='categorical'\n",
        ")\n",
        "\n",
        "validation_generator = datagen.flow_from_directory(\n",
        "    Validpath,\n",
        "    target_size=(224,224),\n",
        "    batch_size = 32,\n",
        "    class_mode='categorical'\n",
        ")"
      ]
    },
    {
      "cell_type": "markdown",
      "source": [
        "### **Using Transfer Learning**"
      ],
      "metadata": {
        "id": "7kcOZ-UeESHp"
      }
    },
    {
      "cell_type": "code",
      "execution_count": null,
      "metadata": {
        "id": "zblZGyNDWPK9",
        "colab": {
          "base_uri": "https://localhost:8080/"
        },
        "outputId": "93dacb9c-f8a2-4248-8fcc-e311df1887c7"
      },
      "outputs": [
        {
          "output_type": "stream",
          "name": "stdout",
          "text": [
            "Downloading data from https://storage.googleapis.com/tensorflow/keras-applications/vgg16/vgg16_weights_tf_dim_ordering_tf_kernels_notop.h5\n",
            "58892288/58889256 [==============================] - 1s 0us/step\n",
            "58900480/58889256 [==============================] - 1s 0us/step\n"
          ]
        }
      ],
      "source": [
        "from tensorflow.keras.applications.vgg16 import VGG16\n",
        "\n",
        "base_model = VGG16(input_shape = (224, 224, 3), include_top = False, weights = 'imagenet')\n",
        "\n",
        "for layer in base_model.layers:\n",
        "    layer.trainable = False"
      ]
    },
    {
      "cell_type": "markdown",
      "source": [
        "### **Defining our own NN layers**"
      ],
      "metadata": {
        "id": "Pw6lnIazFFtD"
      }
    },
    {
      "cell_type": "code",
      "execution_count": null,
      "metadata": {
        "id": "yW8v3jsyWg-b"
      },
      "outputs": [],
      "source": [
        "# Flatten the output layer to 1 dimension\n",
        "x = Flatten()(base_model.output)\n",
        "\n",
        "x = Dense(1024, activation='relu')(x)\n",
        "\n",
        "x = Dense(512, activation='relu')(x)\n",
        "\n",
        "x = Dense(512, activation='relu')(x)\n",
        "\n",
        "# Add a dropout rate of 0.5\n",
        "x = Dropout(0.5)(x)\n",
        "\n",
        "# Add a final sigmoid layer with 1 node for classification output\n",
        "x = Dense(4, activation='softmax')(x)\n",
        "\n",
        "model = Model(base_model.input, x)\n",
        "\n",
        "model.compile(optimizer = Adam(learning_rate=0.0001), loss = 'categorical_crossentropy',metrics = ['acc'])"
      ]
    },
    {
      "cell_type": "markdown",
      "source": [
        "### **Model Training**"
      ],
      "metadata": {
        "id": "D6Ei5l-dFM2U"
      }
    },
    {
      "cell_type": "code",
      "execution_count": null,
      "metadata": {
        "colab": {
          "base_uri": "https://localhost:8080/"
        },
        "id": "PsJM4UrfXUSG",
        "outputId": "a50ee71f-b04a-4a1b-d8b9-884bcaa8e648"
      },
      "outputs": [
        {
          "metadata": {
            "tags": null
          },
          "name": "stderr",
          "output_type": "stream",
          "text": [
            "/usr/local/lib/python3.7/dist-packages/ipykernel_launcher.py:1: UserWarning: `Model.fit_generator` is deprecated and will be removed in a future version. Please use `Model.fit`, which supports generators.\n",
            "  \"\"\"Entry point for launching an IPython kernel.\n"
          ]
        },
        {
          "output_type": "stream",
          "name": "stdout",
          "text": [
            "Epoch 1/25\n",
            "100/100 [==============================] - 1005s 10s/step - loss: 0.3052 - acc: 0.8825 - val_loss: 0.0266 - val_acc: 0.9925\n",
            "Epoch 2/25\n",
            "100/100 [==============================] - 54s 536ms/step - loss: 0.0340 - acc: 0.9897 - val_loss: 0.0780 - val_acc: 0.9725\n",
            "Epoch 3/25\n",
            "100/100 [==============================] - 52s 523ms/step - loss: 0.0214 - acc: 0.9931 - val_loss: 0.0107 - val_acc: 0.9962\n",
            "Epoch 4/25\n",
            "100/100 [==============================] - 53s 527ms/step - loss: 0.0150 - acc: 0.9956 - val_loss: 0.0023 - val_acc: 1.0000\n",
            "Epoch 5/25\n",
            "100/100 [==============================] - 53s 534ms/step - loss: 0.0098 - acc: 0.9969 - val_loss: 0.0054 - val_acc: 0.9975\n",
            "Epoch 6/25\n",
            "100/100 [==============================] - 53s 528ms/step - loss: 0.0076 - acc: 0.9975 - val_loss: 0.0158 - val_acc: 0.9950\n",
            "Epoch 7/25\n",
            "100/100 [==============================] - 53s 534ms/step - loss: 0.0028 - acc: 0.9991 - val_loss: 2.9356e-04 - val_acc: 1.0000\n",
            "Epoch 8/25\n",
            "100/100 [==============================] - 53s 526ms/step - loss: 0.0045 - acc: 0.9981 - val_loss: 0.0010 - val_acc: 1.0000\n",
            "Epoch 9/25\n",
            "100/100 [==============================] - 53s 526ms/step - loss: 0.0175 - acc: 0.9944 - val_loss: 0.0050 - val_acc: 0.9987\n",
            "Epoch 10/25\n",
            "100/100 [==============================] - 53s 534ms/step - loss: 0.0084 - acc: 0.9969 - val_loss: 2.8570e-04 - val_acc: 1.0000\n",
            "Epoch 11/25\n",
            "100/100 [==============================] - 52s 524ms/step - loss: 0.0076 - acc: 0.9978 - val_loss: 9.7480e-04 - val_acc: 1.0000\n",
            "Epoch 12/25\n",
            "100/100 [==============================] - 53s 531ms/step - loss: 0.0043 - acc: 0.9978 - val_loss: 0.0028 - val_acc: 1.0000\n",
            "Epoch 13/25\n",
            "100/100 [==============================] - 54s 544ms/step - loss: 0.0114 - acc: 0.9962 - val_loss: 0.0065 - val_acc: 0.9975\n",
            "Epoch 14/25\n",
            "100/100 [==============================] - 53s 529ms/step - loss: 0.0122 - acc: 0.9947 - val_loss: 0.0069 - val_acc: 0.9975\n",
            "Epoch 15/25\n",
            "100/100 [==============================] - 54s 536ms/step - loss: 2.8669e-04 - acc: 1.0000 - val_loss: 8.4661e-05 - val_acc: 1.0000\n",
            "Epoch 16/25\n",
            "100/100 [==============================] - 53s 525ms/step - loss: 1.1353e-04 - acc: 1.0000 - val_loss: 4.2934e-05 - val_acc: 1.0000\n",
            "Epoch 17/25\n",
            "100/100 [==============================] - 53s 527ms/step - loss: 0.0044 - acc: 0.9981 - val_loss: 6.2185e-04 - val_acc: 1.0000\n",
            "Epoch 18/25\n",
            "100/100 [==============================] - 54s 537ms/step - loss: 0.0164 - acc: 0.9944 - val_loss: 0.0078 - val_acc: 0.9975\n",
            "Epoch 19/25\n",
            "100/100 [==============================] - 53s 527ms/step - loss: 0.0208 - acc: 0.9919 - val_loss: 0.0295 - val_acc: 0.9912\n",
            "Epoch 20/25\n",
            "100/100 [==============================] - 53s 533ms/step - loss: 0.0268 - acc: 0.9900 - val_loss: 0.0038 - val_acc: 0.9975\n",
            "Epoch 21/25\n",
            "100/100 [==============================] - 53s 528ms/step - loss: 0.0012 - acc: 0.9997 - val_loss: 1.3485e-04 - val_acc: 1.0000\n",
            "Epoch 22/25\n",
            "100/100 [==============================] - 53s 526ms/step - loss: 5.9232e-04 - acc: 1.0000 - val_loss: 6.0992e-05 - val_acc: 1.0000\n",
            "Epoch 23/25\n",
            "100/100 [==============================] - 54s 537ms/step - loss: 4.1739e-04 - acc: 0.9997 - val_loss: 0.0014 - val_acc: 0.9987\n",
            "Epoch 24/25\n",
            "100/100 [==============================] - 53s 525ms/step - loss: 3.7284e-04 - acc: 1.0000 - val_loss: 0.0011 - val_acc: 0.9987\n",
            "Epoch 25/25\n",
            "100/100 [==============================] - 53s 526ms/step - loss: 0.0038 - acc: 0.9978 - val_loss: 3.6656e-05 - val_acc: 1.0000\n"
          ]
        },
        {
          "output_type": "execute_result",
          "data": {
            "text/plain": [
              "<keras.callbacks.History at 0x7fe2de39dfd0>"
            ]
          },
          "metadata": {},
          "execution_count": 11
        }
      ],
      "source": [
        "model.fit_generator(train_generator, validation_data = validation_generator, epochs = 25)"
      ]
    },
    {
      "cell_type": "markdown",
      "source": [
        "**Saving the model**"
      ],
      "metadata": {
        "id": "H24lpbw6FZex"
      }
    },
    {
      "cell_type": "code",
      "execution_count": null,
      "metadata": {
        "id": "zr0DkQAwt6EA"
      },
      "outputs": [],
      "source": [
        "model.save(\"/content/drive/MyDrive/IEEE/model.h5\")"
      ]
    }
  ],
  "metadata": {
    "accelerator": "GPU",
    "colab": {
      "provenance": []
    },
    "kernelspec": {
      "display_name": "Python 3",
      "name": "python3"
    },
    "language_info": {
      "name": "python"
    }
  },
  "nbformat": 4,
  "nbformat_minor": 0
}