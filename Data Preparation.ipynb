{
 "cells": [
  {
   "cell_type": "code",
   "execution_count": 10,
   "id": "669969df",
   "metadata": {},
   "outputs": [],
   "source": [
    "import cv2\n",
    "import mediapipe as mp"
   ]
  },
  {
   "cell_type": "markdown",
   "id": "369a18a1",
   "metadata": {},
   "source": [
    "### Class for hand detection"
   ]
  },
  {
   "cell_type": "code",
   "execution_count": 11,
   "id": "ea913cc7",
   "metadata": {},
   "outputs": [],
   "source": [
    "class Detector :\n",
    "    \n",
    "    def __init__(self) :\n",
    "        self.mpHands = mp.solutions.hands\n",
    "        self.hands = self.mpHands.Hands(static_image_mode=False, max_num_hands=1,\n",
    "                                        min_detection_confidence=0.5,\n",
    "                                        min_tracking_confidence=0.5)\n",
    "        \n",
    "    # Function to return coordinates of detected hand, if any\n",
    "    def findHands(self, img, draw=True, flipType=True):\n",
    "\n",
    "            res = []\n",
    "\n",
    "            imgRGB = cv2.cvtColor(img, cv2.COLOR_BGR2RGB)\n",
    "            results = self.hands.process(imgRGB)\n",
    "            allHands = []\n",
    "            h, w, c = img.shape\n",
    "            if results.multi_hand_landmarks:\n",
    "                for handType, handLms in zip(results.multi_handedness, results.multi_hand_landmarks):\n",
    "\n",
    "                    # Landmark list\n",
    "                    mylmList = []\n",
    "                    xList = []\n",
    "                    yList = []\n",
    "                    for id, lm in enumerate(handLms.landmark):\n",
    "                        px, py, pz = int(lm.x * w), int(lm.y * h), int(lm.z * w)\n",
    "                        mylmList.append([px, py, pz])\n",
    "                        xList.append(px)\n",
    "                        yList.append(py)\n",
    "\n",
    "                    # Bounding box\n",
    "                    xmin, xmax = min(xList), max(xList)\n",
    "                    ymin, ymax = min(yList), max(yList)\n",
    "                    boxW, boxH = xmax - xmin, ymax - ymin\n",
    "                    bbox = xmin, ymin, boxW, boxH\n",
    "\n",
    "                    if draw:\n",
    "                        res.append(bbox)\n",
    "\n",
    "            if draw:\n",
    "                return res"
   ]
  },
  {
   "cell_type": "markdown",
   "id": "d408530e",
   "metadata": {},
   "source": [
    "### Capturing imgaes for dataset"
   ]
  },
  {
   "cell_type": "code",
   "execution_count": 13,
   "id": "86b783fb",
   "metadata": {},
   "outputs": [],
   "source": [
    "cap = cv2.VideoCapture(0)\n",
    "target = 1000   # No. of images to capture\n",
    "count = 0\n",
    "\n",
    "detector = Detector()\n",
    "\n",
    "while True:\n",
    "    ret, image = cap.read()\n",
    "    image = cv2.flip(image, 1)\n",
    "    hand_coor = detector.findHands(image)\n",
    "    \n",
    "    if hand_coor:\n",
    "        for (x,y,w,h) in hand_coor:\n",
    "            cv2.rectangle(image,(x-20,y-20),(x+w+20,y+h+20),(0,255,255),2)\n",
    "            cropped_hand = image[y-20:y+h+20, x-20:x+w+20]\n",
    "        \n",
    "        count += 1\n",
    "        if count <= target:\n",
    "            cropped_hand = cv2.resize(cropped_hand,(224,224))\n",
    "            file_name_path = r'C:\\Users\\Development\\Desktop\\IEEE\\Dataset\\train\\misc\\image_' + str(count) + '.jpg'\n",
    "            cv2.imwrite(file_name_path, cropped_hand)\n",
    "            \n",
    "    exit = cv2.waitKey(1)\n",
    "\n",
    "    if count <= target:\n",
    "        cv2.putText(image, f\"Captured {count} images...\", (50, 50), cv2.FONT_HERSHEY_COMPLEX, 1, (0,255,255), 2)\n",
    "    else:\n",
    "        cv2.putText(image, f\"Done! Press Enter to exit.\", (50, 50), cv2.FONT_HERSHEY_COMPLEX, 1, (0,255,0), 2)\n",
    "        if exit == 13:\n",
    "            break\n",
    "            \n",
    "    cv2.imshow(\"Hands\", image)\n",
    "        \n",
    "cap.release()\n",
    "cv2.destroyAllWindows()"
   ]
  },
  {
   "cell_type": "markdown",
   "id": "d2e4221c",
   "metadata": {},
   "source": [
    "### Splitting data into train and validation sets"
   ]
  },
  {
   "cell_type": "code",
   "execution_count": 14,
   "id": "9350cebf",
   "metadata": {},
   "outputs": [],
   "source": [
    "import random\n",
    "import os\n",
    "import shutil\n",
    "\n",
    "dirs = ['Brighten Up', 'Brighten Down', 'Video Player', 'Word']\n",
    "dirs = ['tele', 'calc', 'misc']\n",
    "\n",
    "src_path = r'C:\\Users\\Development\\Desktop\\IEEE\\Dataset\\train'\n",
    "dst_train_path = r'C:\\Users\\Development\\Desktop\\IEEE\\Dataset\\Upload\\train'\n",
    "dst_val_path = r'C:\\Users\\Development\\Desktop\\IEEE\\Dataset\\Upload\\valid'\n",
    "\n",
    "for d in dirs:\n",
    "    imgs = random.sample(range(1, 1001), 800)\n",
    "    for i in imgs:\n",
    "        shutil.copy(src_path+'\\\\'+d+'\\\\image_'+str(i)+'.jpg', dst_train_path+'\\\\'+d)\n",
    "\n",
    "    for i in range(1,1001):\n",
    "        if i not in imgs:\n",
    "            shutil.copy(src_path+'\\\\'+d+'\\\\image_'+str(i)+'.jpg', dst_val_path+'\\\\'+d)"
   ]
  },
  {
   "cell_type": "code",
   "execution_count": null,
   "id": "913080c1",
   "metadata": {},
   "outputs": [],
   "source": []
  }
 ],
 "metadata": {
  "celltoolbar": "Raw Cell Format",
  "kernelspec": {
   "display_name": "Python 3 (ipykernel)",
   "language": "python",
   "name": "python3"
  },
  "language_info": {
   "codemirror_mode": {
    "name": "ipython",
    "version": 3
   },
   "file_extension": ".py",
   "mimetype": "text/x-python",
   "name": "python",
   "nbconvert_exporter": "python",
   "pygments_lexer": "ipython3",
   "version": "3.8.13"
  }
 },
 "nbformat": 4,
 "nbformat_minor": 5
}
